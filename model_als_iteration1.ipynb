{
  "cells": [
    {
      "cell_type": "markdown",
      "metadata": {
        "id": "view-in-github",
        "colab_type": "text"
      },
      "source": [
        "<a href=\"https://colab.research.google.com/github/Abelbrown/h-m-kaggle-project/blob/main/model_als_iteration1.ipynb\" target=\"_parent\"><img src=\"https://colab.research.google.com/assets/colab-badge.svg\" alt=\"Open In Colab\"/></a>"
      ]
    },
    {
      "cell_type": "markdown",
      "metadata": {
        "id": "MqEymy-ro7au"
      },
      "source": [
        "#Objective of iteration 1: manually code an ALS algorithm (even though the Implicit library provides one)"
      ]
    },
    {
      "cell_type": "code",
      "execution_count": null,
      "metadata": {
        "colab": {
          "base_uri": "https://localhost:8080/"
        },
        "id": "L_o8QjwUsote",
        "outputId": "55f60018-2af5-4806-9cbf-62ddce944520"
      },
      "outputs": [
        {
          "name": "stdout",
          "output_type": "stream",
          "text": [
            "Looking in indexes: https://pypi.org/simple, https://us-python.pkg.dev/colab-wheels/public/simple/\n",
            "Requirement already satisfied: implicit in /usr/local/lib/python3.10/dist-packages (0.6.2)\n",
            "Requirement already satisfied: numpy in /usr/local/lib/python3.10/dist-packages (from implicit) (1.22.4)\n",
            "Requirement already satisfied: scipy>=0.16 in /usr/local/lib/python3.10/dist-packages (from implicit) (1.10.1)\n",
            "Requirement already satisfied: tqdm>=4.27 in /usr/local/lib/python3.10/dist-packages (from implicit) (4.65.0)\n"
          ]
        }
      ],
      "source": [
        "!pip install --upgrade implicit"
      ]
    },
    {
      "cell_type": "markdown",
      "metadata": {
        "id": "T0LGDkmqCdUa"
      },
      "source": [
        "#Quick summary of the Alternating Leastr Squares ('ALS')"
      ]
    },
    {
      "cell_type": "markdown",
      "metadata": {
        "id": "CTuqWgc5Cr0b"
      },
      "source": [
        "\n",
        "The 'ALS' (Alternating Least Squares) algorithm aims to decompose a user-item matrix into a scalar product of two matrices of lower dimensions, where one describes the properties of users and the other describes the properties of items for sale (principle of \"matrix factorization\"). This approximation of the original matrix into two \"sub-matrices\" is done in such a way that a cost function (composed of the squared error and a regularization term) is minimized. Each matrix will share \"latent factors\" represented as columns for one matrix and rows for the other. These latent factors represent projections of explanatory variables into a lower-dimensional space. ALS follows the same principle as linear regression: the algorithm establishes an iterative process consisting of two steps. In each step, the model fixes one matrix and finds the features of the other matrix while ensuring that the cost function decreases or at worst remains stable (because OLS, from which ALS is derived, guarantees a minimum squared error).\n",
        "\n",
        "The model will learn to factorize our initial matrix into two representations (a user matrix and an item matrix). This will enable it to accurately predict the next items that a customer is likely to purchase. In this case, we need to predict 12 H&M items that a user is likely to buy: these 12 items will be those with embedded vectors close to the customer's embedded vectors."
      ]
    },
    {
      "cell_type": "markdown",
      "metadata": {
        "id": "uK_Jre9SDDi_"
      },
      "source": [
        "##Imports "
      ]
    },
    {
      "cell_type": "code",
      "execution_count": null,
      "metadata": {
        "colab": {
          "base_uri": "https://localhost:8080/"
        },
        "id": "1xyzSewfbd_F",
        "outputId": "9075b084-0535-4e2a-df40-3171d0a5d2e4"
      },
      "outputs": [
        {
          "name": "stdout",
          "output_type": "stream",
          "text": [
            "Drive already mounted at /content/drive; to attempt to forcibly remount, call drive.mount(\"/content/drive\", force_remount=True).\n"
          ]
        }
      ],
      "source": [
        "from google.colab import drive\n",
        "drive.mount('/content/drive')"
      ]
    },
    {
      "cell_type": "code",
      "execution_count": null,
      "metadata": {
        "id": "EfScd0IztFqu"
      },
      "outputs": [],
      "source": [
        "import os; os.environ['OPENBLAS_NUM_THREADS']='1'\n",
        "import numpy as np\n",
        "import pandas as pd\n",
        "import implicit\n",
        "from scipy.sparse import coo_matrix\n",
        "from implicit.evaluation import mean_average_precision_at_k"
      ]
    },
    {
      "cell_type": "markdown",
      "metadata": {
        "id": "lRoRoM1yDJkz"
      },
      "source": [
        "##Loading files"
      ]
    },
    {
      "cell_type": "code",
      "execution_count": null,
      "metadata": {
        "id": "-wS3aKIMtPRj"
      },
      "outputs": [],
      "source": [
        "df_cust = pd.read_csv('/content/drive/MyDrive/customers.csv')\n",
        "df_cust_sample = df_cust.sample(frac=0.05)\n",
        "df_art = pd.read_csv('/content/drive/MyDrive/articles.csv', dtype={'article_id': str})\n",
        "df_art_sample = df_art.sample(frac=0.05)\n",
        "df_trans = pd.read_csv('/content/drive/MyDrive/transactions_train.csv', dtype={'article_id': str}, parse_dates=['t_dat'])\n",
        "df_trans_sample = df_trans.sample(frac=0.05)\n",
        "df_sub = pd.read_csv('/content/drive/MyDrive/sample_submission.csv')"
      ]
    },
    {
      "cell_type": "markdown",
      "metadata": {
        "id": "lRddUsgPDZi8"
      },
      "source": [
        "##Préparation de la donnée en vue de la création de deux matrices (U et V)"
      ]
    },
    {
      "cell_type": "code",
      "execution_count": null,
      "metadata": {
        "colab": {
          "base_uri": "https://localhost:8080/",
          "height": 206
        },
        "id": "y70I0j-8tUUi",
        "outputId": "b48546a5-9191-4679-a8b4-45cbbbeadfc2"
      },
      "outputs": [
        {
          "data": {
            "text/html": [
              "\n",
              "  <div id=\"df-43189fb1-0065-4ad0-86db-2ff29d4de6eb\">\n",
              "    <div class=\"colab-df-container\">\n",
              "      <div>\n",
              "<style scoped>\n",
              "    .dataframe tbody tr th:only-of-type {\n",
              "        vertical-align: middle;\n",
              "    }\n",
              "\n",
              "    .dataframe tbody tr th {\n",
              "        vertical-align: top;\n",
              "    }\n",
              "\n",
              "    .dataframe thead th {\n",
              "        text-align: right;\n",
              "    }\n",
              "</style>\n",
              "<table border=\"1\" class=\"dataframe\">\n",
              "  <thead>\n",
              "    <tr style=\"text-align: right;\">\n",
              "      <th></th>\n",
              "      <th>t_dat</th>\n",
              "      <th>customer_id</th>\n",
              "      <th>article_id</th>\n",
              "      <th>price</th>\n",
              "      <th>sales_channel_id</th>\n",
              "    </tr>\n",
              "  </thead>\n",
              "  <tbody>\n",
              "    <tr>\n",
              "      <th>30597413</th>\n",
              "      <td>2020-08-22</td>\n",
              "      <td>0001d44dbe7f6c4b35200abdb052c77a87596fe1bdcc37...</td>\n",
              "      <td>0913688003</td>\n",
              "      <td>0.033881</td>\n",
              "      <td>2</td>\n",
              "    </tr>\n",
              "    <tr>\n",
              "      <th>30597414</th>\n",
              "      <td>2020-08-22</td>\n",
              "      <td>0001d44dbe7f6c4b35200abdb052c77a87596fe1bdcc37...</td>\n",
              "      <td>0913688003</td>\n",
              "      <td>0.033881</td>\n",
              "      <td>2</td>\n",
              "    </tr>\n",
              "    <tr>\n",
              "      <th>30597415</th>\n",
              "      <td>2020-08-22</td>\n",
              "      <td>0001d44dbe7f6c4b35200abdb052c77a87596fe1bdcc37...</td>\n",
              "      <td>0923460001</td>\n",
              "      <td>0.042356</td>\n",
              "      <td>2</td>\n",
              "    </tr>\n",
              "    <tr>\n",
              "      <th>30597416</th>\n",
              "      <td>2020-08-22</td>\n",
              "      <td>0001d44dbe7f6c4b35200abdb052c77a87596fe1bdcc37...</td>\n",
              "      <td>0934380001</td>\n",
              "      <td>0.050831</td>\n",
              "      <td>2</td>\n",
              "    </tr>\n",
              "    <tr>\n",
              "      <th>30597417</th>\n",
              "      <td>2020-08-22</td>\n",
              "      <td>0001d44dbe7f6c4b35200abdb052c77a87596fe1bdcc37...</td>\n",
              "      <td>0913688001</td>\n",
              "      <td>0.033881</td>\n",
              "      <td>2</td>\n",
              "    </tr>\n",
              "  </tbody>\n",
              "</table>\n",
              "</div>\n",
              "      <button class=\"colab-df-convert\" onclick=\"convertToInteractive('df-43189fb1-0065-4ad0-86db-2ff29d4de6eb')\"\n",
              "              title=\"Convert this dataframe to an interactive table.\"\n",
              "              style=\"display:none;\">\n",
              "        \n",
              "  <svg xmlns=\"http://www.w3.org/2000/svg\" height=\"24px\"viewBox=\"0 0 24 24\"\n",
              "       width=\"24px\">\n",
              "    <path d=\"M0 0h24v24H0V0z\" fill=\"none\"/>\n",
              "    <path d=\"M18.56 5.44l.94 2.06.94-2.06 2.06-.94-2.06-.94-.94-2.06-.94 2.06-2.06.94zm-11 1L8.5 8.5l.94-2.06 2.06-.94-2.06-.94L8.5 2.5l-.94 2.06-2.06.94zm10 10l.94 2.06.94-2.06 2.06-.94-2.06-.94-.94-2.06-.94 2.06-2.06.94z\"/><path d=\"M17.41 7.96l-1.37-1.37c-.4-.4-.92-.59-1.43-.59-.52 0-1.04.2-1.43.59L10.3 9.45l-7.72 7.72c-.78.78-.78 2.05 0 2.83L4 21.41c.39.39.9.59 1.41.59.51 0 1.02-.2 1.41-.59l7.78-7.78 2.81-2.81c.8-.78.8-2.07 0-2.86zM5.41 20L4 18.59l7.72-7.72 1.47 1.35L5.41 20z\"/>\n",
              "  </svg>\n",
              "      </button>\n",
              "      \n",
              "  <style>\n",
              "    .colab-df-container {\n",
              "      display:flex;\n",
              "      flex-wrap:wrap;\n",
              "      gap: 12px;\n",
              "    }\n",
              "\n",
              "    .colab-df-convert {\n",
              "      background-color: #E8F0FE;\n",
              "      border: none;\n",
              "      border-radius: 50%;\n",
              "      cursor: pointer;\n",
              "      display: none;\n",
              "      fill: #1967D2;\n",
              "      height: 32px;\n",
              "      padding: 0 0 0 0;\n",
              "      width: 32px;\n",
              "    }\n",
              "\n",
              "    .colab-df-convert:hover {\n",
              "      background-color: #E2EBFA;\n",
              "      box-shadow: 0px 1px 2px rgba(60, 64, 67, 0.3), 0px 1px 3px 1px rgba(60, 64, 67, 0.15);\n",
              "      fill: #174EA6;\n",
              "    }\n",
              "\n",
              "    [theme=dark] .colab-df-convert {\n",
              "      background-color: #3B4455;\n",
              "      fill: #D2E3FC;\n",
              "    }\n",
              "\n",
              "    [theme=dark] .colab-df-convert:hover {\n",
              "      background-color: #434B5C;\n",
              "      box-shadow: 0px 1px 3px 1px rgba(0, 0, 0, 0.15);\n",
              "      filter: drop-shadow(0px 1px 2px rgba(0, 0, 0, 0.3));\n",
              "      fill: #FFFFFF;\n",
              "    }\n",
              "  </style>\n",
              "\n",
              "      <script>\n",
              "        const buttonEl =\n",
              "          document.querySelector('#df-43189fb1-0065-4ad0-86db-2ff29d4de6eb button.colab-df-convert');\n",
              "        buttonEl.style.display =\n",
              "          google.colab.kernel.accessAllowed ? 'block' : 'none';\n",
              "\n",
              "        async function convertToInteractive(key) {\n",
              "          const element = document.querySelector('#df-43189fb1-0065-4ad0-86db-2ff29d4de6eb');\n",
              "          const dataTable =\n",
              "            await google.colab.kernel.invokeFunction('convertToInteractive',\n",
              "                                                     [key], {});\n",
              "          if (!dataTable) return;\n",
              "\n",
              "          const docLinkHtml = 'Like what you see? Visit the ' +\n",
              "            '<a target=\"_blank\" href=https://colab.research.google.com/notebooks/data_table.ipynb>data table notebook</a>'\n",
              "            + ' to learn more about interactive tables.';\n",
              "          element.innerHTML = '';\n",
              "          dataTable['output_type'] = 'display_data';\n",
              "          await google.colab.output.renderOutput(dataTable, element);\n",
              "          const docLink = document.createElement('div');\n",
              "          docLink.innerHTML = docLinkHtml;\n",
              "          element.appendChild(docLink);\n",
              "        }\n",
              "      </script>\n",
              "    </div>\n",
              "  </div>\n",
              "  "
            ],
            "text/plain": [
              "              t_dat                                        customer_id  \\\n",
              "30597413 2020-08-22  0001d44dbe7f6c4b35200abdb052c77a87596fe1bdcc37...   \n",
              "30597414 2020-08-22  0001d44dbe7f6c4b35200abdb052c77a87596fe1bdcc37...   \n",
              "30597415 2020-08-22  0001d44dbe7f6c4b35200abdb052c77a87596fe1bdcc37...   \n",
              "30597416 2020-08-22  0001d44dbe7f6c4b35200abdb052c77a87596fe1bdcc37...   \n",
              "30597417 2020-08-22  0001d44dbe7f6c4b35200abdb052c77a87596fe1bdcc37...   \n",
              "\n",
              "          article_id     price  sales_channel_id  \n",
              "30597413  0913688003  0.033881                 2  \n",
              "30597414  0913688003  0.033881                 2  \n",
              "30597415  0923460001  0.042356                 2  \n",
              "30597416  0934380001  0.050831                 2  \n",
              "30597417  0913688001  0.033881                 2  "
            ]
          },
          "execution_count": 10,
          "metadata": {},
          "output_type": "execute_result"
        }
      ],
      "source": [
        "#Option 1: Select only the transaction rows where the date is greater than August 21, 2020 to minimize processing time.\n",
        "df_trans_bis = df_trans[df_trans['t_dat'] > '2020-08-21']\n",
        "df_trans_bis.head()\n",
        "\n",
        "#Option 2: Select 5% of the original file as a sample -> df_trans_sample (see cell above)\n",
        "##df_trans_sample.head()"
      ]
    },
    {
      "cell_type": "code",
      "execution_count": null,
      "metadata": {
        "id": "iQjRNqT2usm8"
      },
      "outputs": [],
      "source": [
        "#Creation of lists of users id and articles id\n",
        "list_cust_id = df_cust['customer_id'].unique().tolist()\n",
        "list_art_id = df_art['article_id'].unique().tolist()"
      ]
    },
    {
      "cell_type": "code",
      "execution_count": null,
      "metadata": {
        "colab": {
          "base_uri": "https://localhost:8080/"
        },
        "id": "yAMEJcjsvJta",
        "outputId": "2849ee19-f5bf-4aac-bb8b-62a672089be3"
      },
      "outputs": [
        {
          "name": "stdout",
          "output_type": "stream",
          "text": [
            "[(0, '00000dbacae5abe5e23885899a1fa44253a17956c6d1c3d25f88aa139fdfc657'), (1, '0000423b00ade91418cceaf3b26c6af3dd342b51fd051eec9c12fb36984420fa'), (2, '000058a12d5b43e67d225668fa1f8d618c13dc232df0cad8ffe7ad4a1091e318'), (3, '00005ca1c9ed5f5146b52ac8639a40ca9d57aeff4d1bd2c5feb1ca5dff07c43e'), (4, '00006413d8573cd20ed7128e53b7b13819fe5cfc2d801fe7fc0f26dd8d65a85a'), (5, '000064249685c11552da43ef22a5030f35a147f723d5b02ddd9fd22452b1f5a6')]\n",
            "[(0, '0108775015'), (1, '0108775044'), (2, '0108775051'), (3, '0110065001'), (4, '0110065002'), (5, '0110065011')]\n"
          ]
        }
      ],
      "source": [
        "#Create a dictionary with the list of user ids and the list of article ids.\n",
        "#Get the (index, value) pairs with enumerate, then transform into a list and then into a dictionary.\n",
        "cust_ids = dict(list(enumerate(list_cust_id))) \n",
        "art_ids = dict(list(enumerate(list_art_id)))\n",
        "#Display the first few lines.\n",
        "print(list(cust_ids.items())[:6]) \n",
        "'\\n' \n",
        "print(list(art_ids.items())[:6])"
      ]
    },
    {
      "cell_type": "code",
      "execution_count": null,
      "metadata": {
        "colab": {
          "base_uri": "https://localhost:8080/",
          "height": 575
        },
        "id": "qeM79z9rvdv4",
        "outputId": "e58436a1-f1a6-414f-a7bd-7ae75a936679"
      },
      "outputs": [
        {
          "name": "stderr",
          "output_type": "stream",
          "text": [
            "<ipython-input-13-e90d9c97466f>:5: SettingWithCopyWarning: \n",
            "A value is trying to be set on a copy of a slice from a DataFrame.\n",
            "Try using .loc[row_indexer,col_indexer] = value instead\n",
            "\n",
            "See the caveats in the documentation: https://pandas.pydata.org/pandas-docs/stable/user_guide/indexing.html#returning-a-view-versus-a-copy\n",
            "  df_trans_bis['cust_id'] = df_trans_bis['customer_id'].map(cust_map)\n",
            "<ipython-input-13-e90d9c97466f>:8: SettingWithCopyWarning: \n",
            "A value is trying to be set on a copy of a slice from a DataFrame.\n",
            "Try using .loc[row_indexer,col_indexer] = value instead\n",
            "\n",
            "See the caveats in the documentation: https://pandas.pydata.org/pandas-docs/stable/user_guide/indexing.html#returning-a-view-versus-a-copy\n",
            "  df_trans_bis['art_id'] = df_trans_bis['article_id'].map(art_map)\n"
          ]
        },
        {
          "data": {
            "text/html": [
              "\n",
              "  <div id=\"df-fa9655a8-3b17-4743-bcfa-078647ee33de\">\n",
              "    <div class=\"colab-df-container\">\n",
              "      <div>\n",
              "<style scoped>\n",
              "    .dataframe tbody tr th:only-of-type {\n",
              "        vertical-align: middle;\n",
              "    }\n",
              "\n",
              "    .dataframe tbody tr th {\n",
              "        vertical-align: top;\n",
              "    }\n",
              "\n",
              "    .dataframe thead th {\n",
              "        text-align: right;\n",
              "    }\n",
              "</style>\n",
              "<table border=\"1\" class=\"dataframe\">\n",
              "  <thead>\n",
              "    <tr style=\"text-align: right;\">\n",
              "      <th></th>\n",
              "      <th>t_dat</th>\n",
              "      <th>customer_id</th>\n",
              "      <th>article_id</th>\n",
              "      <th>price</th>\n",
              "      <th>sales_channel_id</th>\n",
              "      <th>cust_id</th>\n",
              "      <th>art_id</th>\n",
              "    </tr>\n",
              "  </thead>\n",
              "  <tbody>\n",
              "    <tr>\n",
              "      <th>30597413</th>\n",
              "      <td>2020-08-22</td>\n",
              "      <td>0001d44dbe7f6c4b35200abdb052c77a87596fe1bdcc37...</td>\n",
              "      <td>0913688003</td>\n",
              "      <td>0.033881</td>\n",
              "      <td>2</td>\n",
              "      <td>38</td>\n",
              "      <td>103595</td>\n",
              "    </tr>\n",
              "    <tr>\n",
              "      <th>30597414</th>\n",
              "      <td>2020-08-22</td>\n",
              "      <td>0001d44dbe7f6c4b35200abdb052c77a87596fe1bdcc37...</td>\n",
              "      <td>0913688003</td>\n",
              "      <td>0.033881</td>\n",
              "      <td>2</td>\n",
              "      <td>38</td>\n",
              "      <td>103595</td>\n",
              "    </tr>\n",
              "    <tr>\n",
              "      <th>30597415</th>\n",
              "      <td>2020-08-22</td>\n",
              "      <td>0001d44dbe7f6c4b35200abdb052c77a87596fe1bdcc37...</td>\n",
              "      <td>0923460001</td>\n",
              "      <td>0.042356</td>\n",
              "      <td>2</td>\n",
              "      <td>38</td>\n",
              "      <td>104483</td>\n",
              "    </tr>\n",
              "    <tr>\n",
              "      <th>30597416</th>\n",
              "      <td>2020-08-22</td>\n",
              "      <td>0001d44dbe7f6c4b35200abdb052c77a87596fe1bdcc37...</td>\n",
              "      <td>0934380001</td>\n",
              "      <td>0.050831</td>\n",
              "      <td>2</td>\n",
              "      <td>38</td>\n",
              "      <td>105214</td>\n",
              "    </tr>\n",
              "    <tr>\n",
              "      <th>30597417</th>\n",
              "      <td>2020-08-22</td>\n",
              "      <td>0001d44dbe7f6c4b35200abdb052c77a87596fe1bdcc37...</td>\n",
              "      <td>0913688001</td>\n",
              "      <td>0.033881</td>\n",
              "      <td>2</td>\n",
              "      <td>38</td>\n",
              "      <td>103593</td>\n",
              "    </tr>\n",
              "    <tr>\n",
              "      <th>30597418</th>\n",
              "      <td>2020-08-22</td>\n",
              "      <td>0001d44dbe7f6c4b35200abdb052c77a87596fe1bdcc37...</td>\n",
              "      <td>0572998001</td>\n",
              "      <td>0.042356</td>\n",
              "      <td>2</td>\n",
              "      <td>38</td>\n",
              "      <td>17125</td>\n",
              "    </tr>\n",
              "    <tr>\n",
              "      <th>30597419</th>\n",
              "      <td>2020-08-22</td>\n",
              "      <td>0001d44dbe7f6c4b35200abdb052c77a87596fe1bdcc37...</td>\n",
              "      <td>0866387011</td>\n",
              "      <td>0.042356</td>\n",
              "      <td>2</td>\n",
              "      <td>38</td>\n",
              "      <td>95404</td>\n",
              "    </tr>\n",
              "    <tr>\n",
              "      <th>30597420</th>\n",
              "      <td>2020-08-22</td>\n",
              "      <td>00159bfc26c2cf788c09789f006fa698b24d0f1dbd8309...</td>\n",
              "      <td>0751471001</td>\n",
              "      <td>0.030492</td>\n",
              "      <td>1</td>\n",
              "      <td>467</td>\n",
              "      <td>67522</td>\n",
              "    </tr>\n",
              "    <tr>\n",
              "      <th>30597421</th>\n",
              "      <td>2020-08-22</td>\n",
              "      <td>00159bfc26c2cf788c09789f006fa698b24d0f1dbd8309...</td>\n",
              "      <td>0927922002</td>\n",
              "      <td>0.030492</td>\n",
              "      <td>1</td>\n",
              "      <td>467</td>\n",
              "      <td>104840</td>\n",
              "    </tr>\n",
              "    <tr>\n",
              "      <th>30597422</th>\n",
              "      <td>2020-08-22</td>\n",
              "      <td>002562bc0fe3f01f08e14874067a22907b02c98c701077...</td>\n",
              "      <td>0579541086</td>\n",
              "      <td>0.015237</td>\n",
              "      <td>1</td>\n",
              "      <td>785</td>\n",
              "      <td>18613</td>\n",
              "    </tr>\n",
              "  </tbody>\n",
              "</table>\n",
              "</div>\n",
              "      <button class=\"colab-df-convert\" onclick=\"convertToInteractive('df-fa9655a8-3b17-4743-bcfa-078647ee33de')\"\n",
              "              title=\"Convert this dataframe to an interactive table.\"\n",
              "              style=\"display:none;\">\n",
              "        \n",
              "  <svg xmlns=\"http://www.w3.org/2000/svg\" height=\"24px\"viewBox=\"0 0 24 24\"\n",
              "       width=\"24px\">\n",
              "    <path d=\"M0 0h24v24H0V0z\" fill=\"none\"/>\n",
              "    <path d=\"M18.56 5.44l.94 2.06.94-2.06 2.06-.94-2.06-.94-.94-2.06-.94 2.06-2.06.94zm-11 1L8.5 8.5l.94-2.06 2.06-.94-2.06-.94L8.5 2.5l-.94 2.06-2.06.94zm10 10l.94 2.06.94-2.06 2.06-.94-2.06-.94-.94-2.06-.94 2.06-2.06.94z\"/><path d=\"M17.41 7.96l-1.37-1.37c-.4-.4-.92-.59-1.43-.59-.52 0-1.04.2-1.43.59L10.3 9.45l-7.72 7.72c-.78.78-.78 2.05 0 2.83L4 21.41c.39.39.9.59 1.41.59.51 0 1.02-.2 1.41-.59l7.78-7.78 2.81-2.81c.8-.78.8-2.07 0-2.86zM5.41 20L4 18.59l7.72-7.72 1.47 1.35L5.41 20z\"/>\n",
              "  </svg>\n",
              "      </button>\n",
              "      \n",
              "  <style>\n",
              "    .colab-df-container {\n",
              "      display:flex;\n",
              "      flex-wrap:wrap;\n",
              "      gap: 12px;\n",
              "    }\n",
              "\n",
              "    .colab-df-convert {\n",
              "      background-color: #E8F0FE;\n",
              "      border: none;\n",
              "      border-radius: 50%;\n",
              "      cursor: pointer;\n",
              "      display: none;\n",
              "      fill: #1967D2;\n",
              "      height: 32px;\n",
              "      padding: 0 0 0 0;\n",
              "      width: 32px;\n",
              "    }\n",
              "\n",
              "    .colab-df-convert:hover {\n",
              "      background-color: #E2EBFA;\n",
              "      box-shadow: 0px 1px 2px rgba(60, 64, 67, 0.3), 0px 1px 3px 1px rgba(60, 64, 67, 0.15);\n",
              "      fill: #174EA6;\n",
              "    }\n",
              "\n",
              "    [theme=dark] .colab-df-convert {\n",
              "      background-color: #3B4455;\n",
              "      fill: #D2E3FC;\n",
              "    }\n",
              "\n",
              "    [theme=dark] .colab-df-convert:hover {\n",
              "      background-color: #434B5C;\n",
              "      box-shadow: 0px 1px 3px 1px rgba(0, 0, 0, 0.15);\n",
              "      filter: drop-shadow(0px 1px 2px rgba(0, 0, 0, 0.3));\n",
              "      fill: #FFFFFF;\n",
              "    }\n",
              "  </style>\n",
              "\n",
              "      <script>\n",
              "        const buttonEl =\n",
              "          document.querySelector('#df-fa9655a8-3b17-4743-bcfa-078647ee33de button.colab-df-convert');\n",
              "        buttonEl.style.display =\n",
              "          google.colab.kernel.accessAllowed ? 'block' : 'none';\n",
              "\n",
              "        async function convertToInteractive(key) {\n",
              "          const element = document.querySelector('#df-fa9655a8-3b17-4743-bcfa-078647ee33de');\n",
              "          const dataTable =\n",
              "            await google.colab.kernel.invokeFunction('convertToInteractive',\n",
              "                                                     [key], {});\n",
              "          if (!dataTable) return;\n",
              "\n",
              "          const docLinkHtml = 'Like what you see? Visit the ' +\n",
              "            '<a target=\"_blank\" href=https://colab.research.google.com/notebooks/data_table.ipynb>data table notebook</a>'\n",
              "            + ' to learn more about interactive tables.';\n",
              "          element.innerHTML = '';\n",
              "          dataTable['output_type'] = 'display_data';\n",
              "          await google.colab.output.renderOutput(dataTable, element);\n",
              "          const docLink = document.createElement('div');\n",
              "          docLink.innerHTML = docLinkHtml;\n",
              "          element.appendChild(docLink);\n",
              "        }\n",
              "      </script>\n",
              "    </div>\n",
              "  </div>\n",
              "  "
            ],
            "text/plain": [
              "              t_dat                                        customer_id  \\\n",
              "30597413 2020-08-22  0001d44dbe7f6c4b35200abdb052c77a87596fe1bdcc37...   \n",
              "30597414 2020-08-22  0001d44dbe7f6c4b35200abdb052c77a87596fe1bdcc37...   \n",
              "30597415 2020-08-22  0001d44dbe7f6c4b35200abdb052c77a87596fe1bdcc37...   \n",
              "30597416 2020-08-22  0001d44dbe7f6c4b35200abdb052c77a87596fe1bdcc37...   \n",
              "30597417 2020-08-22  0001d44dbe7f6c4b35200abdb052c77a87596fe1bdcc37...   \n",
              "30597418 2020-08-22  0001d44dbe7f6c4b35200abdb052c77a87596fe1bdcc37...   \n",
              "30597419 2020-08-22  0001d44dbe7f6c4b35200abdb052c77a87596fe1bdcc37...   \n",
              "30597420 2020-08-22  00159bfc26c2cf788c09789f006fa698b24d0f1dbd8309...   \n",
              "30597421 2020-08-22  00159bfc26c2cf788c09789f006fa698b24d0f1dbd8309...   \n",
              "30597422 2020-08-22  002562bc0fe3f01f08e14874067a22907b02c98c701077...   \n",
              "\n",
              "          article_id     price  sales_channel_id  cust_id  art_id  \n",
              "30597413  0913688003  0.033881                 2       38  103595  \n",
              "30597414  0913688003  0.033881                 2       38  103595  \n",
              "30597415  0923460001  0.042356                 2       38  104483  \n",
              "30597416  0934380001  0.050831                 2       38  105214  \n",
              "30597417  0913688001  0.033881                 2       38  103593  \n",
              "30597418  0572998001  0.042356                 2       38   17125  \n",
              "30597419  0866387011  0.042356                 2       38   95404  \n",
              "30597420  0751471001  0.030492                 1      467   67522  \n",
              "30597421  0927922002  0.030492                 1      467  104840  \n",
              "30597422  0579541086  0.015237                 1      785   18613  "
            ]
          },
          "execution_count": 13,
          "metadata": {},
          "output_type": "execute_result"
        }
      ],
      "source": [
        "#Assign customer and article indices to the transaction table\n",
        "## Invert the key-value pairs of our dictionary created in the previous cell. \n",
        "cust_map = {u: uidx for uidx, u in cust_ids.items()} \n",
        "## Substitute each customer_id with the created index and assign them to a new column 'cust_id'\n",
        "df_trans_bis['cust_id'] = df_trans_bis['customer_id'].map(cust_map) \n",
        "\n",
        "art_map = {a: aidx for aidx, a in art_ids.items()} \n",
        "df_trans_bis['art_id'] = df_trans_bis['article_id'].map(art_map) \n",
        "df_trans_bis.head(10)"
      ]
    },
    {
      "cell_type": "markdown",
      "metadata": {
        "id": "KQoiyzeRDynd"
      },
      "source": [
        "## Initialization step of two matrices U and V "
      ]
    },
    {
      "cell_type": "code",
      "execution_count": null,
      "metadata": {
        "id": "5doLsUqR3DGf"
      },
      "outputs": [],
      "source": [
        "#Constructing the two matrices U and V from the data of the main matrix (row, col, data)\n",
        "##We will create tuples (cust_id, art_id) and count how many times they appear. For example, if the\n",
        "##tuple (38, 103595) appears twice, we will enter the value 2 in our main matrix (at the intersection of these two numbers). In reality, we\n",
        "##will only construct matrices U and V in order to establish our cost function later on.\n",
        "\n",
        "###Step 1: Insert the respective indices of customers and articles into row and col (of the main matrix)\n",
        "row = df_trans_bis['cust_id'].values\n",
        "col = df_trans_bis['art_id'].values\n",
        "\n",
        "###Step 2: Creating tuples and counting occurrences\n",
        "from collections import Counter\n",
        "tuples = [(row[i], col[i]) for i in range(len(row))]\n",
        "matrix_m_values = dict(Counter(tuples))\n",
        "\n",
        "row = np.array(list(matrix_m_values.keys()))[:,0] #First element of each key to obtain unique values\n",
        "col = np.array(list(matrix_m_values.keys()))[:,1]\n",
        "\n",
        "###Step 3: Assign the values of each tuple to data (of the main matrix)\n",
        "data = matrix_m_values.values()\n",
        "\n",
        "###Step 4: Creating matrices U and V with random values\n",
        "\n",
        "#-->Option1: Random numbers following a normal distribution (drawbacks: float numbers and negative values)\n",
        "##Matrix U of size (m, k) with m as the number of unique customers and k as a hyperparameter (latent factors) that will be randomly set\n",
        "\n",
        "m = len(df_cust['customer_id'].unique())\n",
        "k = 100\n",
        "U = np.random.randn(m, k).astype('float64')\n",
        "\n",
        "##Matrix V of size (k, n) with n as the number of unique articles and k as the same hyperparameter\n",
        "\n",
        "n = len(df_art['article_id'].unique())\n",
        "k = 100\n",
        "V = np.random.randn(k, n).astype('float64')\n",
        "\n",
        "#-->Option2: Random integers\n",
        "#==> first: Obtain the value of the largest tuple in the 'tuples' dictionary to indicate it in the step of creating matrices U and V\n",
        "#max_key = max(matrix_m_values, key=matrix_m_values.get) # get the key with the maximum value\n",
        "#max_val = matrix_m_values[max_key] # get the value associated with that key\n",
        "#==> Second: Initialization of matrices U and V\n",
        "#m = len(df_cust['customer_id'].unique())\n",
        "#n = len(df_art['article_id'].unique())\n",
        "#k = 100\n",
        "#U = np.random.randint(0, max_val+1, size=(m, k)) # Adding +1 because the upper limit max_val is exclusive (numpy random.randint documentation)\n",
        "#V = np.random.randint(0, max_val+1, size=(k, n)) # Adding +1 because the upper limit max_val is exclusive (numpy random.randint documentation)\n",
        "#U = U.astype(np.float64)\n",
        "#V = V.astype(np.float64)\n"
      ]
    },
    {
      "cell_type": "code",
      "execution_count": null,
      "metadata": {
        "colab": {
          "base_uri": "https://localhost:8080/"
        },
        "id": "aMzeF5AGDdwG",
        "outputId": "e622dec1-3325-48bb-89bf-cc3cddc3edc3"
      },
      "outputs": [
        {
          "name": "stdout",
          "output_type": "stream",
          "text": [
            "array([[-0.61048449,  1.7565281 ,  0.56040945, ..., -0.58960806,\n",
            "         1.58523003, -0.94967993],\n",
            "       [ 1.46591441,  0.33229104,  0.79532913, ...,  0.05563889,\n",
            "         0.48928827, -0.99114805],\n",
            "       [-0.28818692,  1.32041446,  0.42943286, ...,  1.36956256,\n",
            "         0.36545452,  0.60042544],\n",
            "       ...,\n",
            "       [ 0.63748512, -0.25351444, -0.02123696, ...,  0.11151226,\n",
            "        -0.73640665,  0.10989766],\n",
            "       [ 0.30064314,  0.12623435,  1.15654082, ...,  0.00178675,\n",
            "         0.44039888,  0.18120908],\n",
            "       [-0.25943057, -0.15067444,  0.96574323, ...,  0.57642845,\n",
            "        -1.23754377,  1.00287739]])\n",
            "array([[ 0.53096593,  0.92404781, -1.20990108, ...,  0.40048765,\n",
            "         0.75923716,  0.91007106],\n",
            "       [ 1.12840632,  0.23704459, -0.08023114, ...,  0.90207145,\n",
            "         0.32927342,  0.04660526],\n",
            "       [-0.6431553 ,  0.01634481, -0.2200867 , ..., -0.59734973,\n",
            "        -0.22114237,  0.75722974],\n",
            "       ...,\n",
            "       [ 1.58964778,  1.14181414,  0.26936195, ..., -0.1553823 ,\n",
            "         1.29484459, -0.93407887],\n",
            "       [-0.3161249 , -0.13068011,  0.24334223, ...,  0.61910951,\n",
            "         1.10566729,  0.13290918],\n",
            "       [-0.85660857, -0.14412675, -1.74731392, ...,  0.51694345,\n",
            "        -1.90161706, -0.65668625]])\n"
          ]
        }
      ],
      "source": [
        "from pprint import pprint\n",
        "pprint(U)\n",
        "\n",
        "pprint(V)"
      ]
    },
    {
      "cell_type": "markdown",
      "metadata": {
        "id": "QM0KNfS-xiRI"
      },
      "source": [
        "# Loss function and Gradient Descent"
      ]
    },
    {
      "cell_type": "code",
      "execution_count": null,
      "metadata": {
        "colab": {
          "background_save": true,
          "base_uri": "https://localhost:8080/"
        },
        "id": "lCYGm52_wF2I",
        "outputId": "ca9734a5-dc2e-48ac-8c42-1cba7c43c7e6"
      },
      "outputs": [
        {
          "name": "stderr",
          "output_type": "stream",
          "text": [
            "<ipython-input-16-d52fb533fb8c>:9: RuntimeWarning: overflow encountered in multiply\n",
            "  L_prime_V = -2*U[row[i],:]*(list(data)[i] - U[row[i],:]@V[:,col[i]]) # derivative with respect to V\n",
            "<ipython-input-16-d52fb533fb8c>:8: RuntimeWarning: invalid value encountered in matmul\n",
            "  L_prime_U = -2*V[:,col[i]]*(list(data)[i] - U[row[i],:]@V[:,col[i]]) # derivative with respect to U\n",
            "<ipython-input-16-d52fb533fb8c>:9: RuntimeWarning: invalid value encountered in matmul\n",
            "  L_prime_V = -2*U[row[i],:]*(list(data)[i] - U[row[i],:]@V[:,col[i]]) # derivative with respect to V\n",
            "<ipython-input-16-d52fb533fb8c>:8: RuntimeWarning: overflow encountered in multiply\n",
            "  L_prime_U = -2*V[:,col[i]]*(list(data)[i] - U[row[i],:]@V[:,col[i]]) # derivative with respect to U\n",
            "<ipython-input-16-d52fb533fb8c>:8: RuntimeWarning: overflow encountered in matmul\n",
            "  L_prime_U = -2*V[:,col[i]]*(list(data)[i] - U[row[i],:]@V[:,col[i]]) # derivative with respect to U\n",
            "<ipython-input-16-d52fb533fb8c>:9: RuntimeWarning: overflow encountered in matmul\n",
            "  L_prime_V = -2*U[row[i],:]*(list(data)[i] - U[row[i],:]@V[:,col[i]]) # derivative with respect to V\n"
          ]
        }
      ],
      "source": [
        "from time import time\n",
        "t0 = time()\n",
        "eps = 0.1\n",
        "for i in range(len(row)):\n",
        "  \"\"\"\n",
        "  L = (data[i] - U[row[i],:]@V[:,col[i])**2 #general form of the cost function that allows looping only over the known values of the main matrix\n",
        "  \"\"\"\n",
        "  L_prime_U = -2*V[:,col[i]]*(list(data)[i] - U[row[i],:]@V[:,col[i]]) # derivative with respect to U\n",
        "  L_prime_V = -2*U[row[i],:]*(list(data)[i] - U[row[i],:]@V[:,col[i]]) # derivative with respect to V\n",
        "  U[row[i],:] -= eps*L_prime_U # Gradient descent with a step represented by eps. We add each new value to the U matrix\n",
        "  V[:,col[i]] -= eps*L_prime_V # Same for V\n",
        "\n",
        "t1 = time()\n",
        "print(\"Execution time of the algorithm:\", t1-t0)\n"
      ]
    },
    {
      "cell_type": "markdown",
      "source": [
        "## Testing cells "
      ],
      "metadata": {
        "id": "VV6XdIXcwftY"
      }
    },
    {
      "cell_type": "code",
      "execution_count": null,
      "metadata": {
        "id": "VCTR7iWRXuO6"
      },
      "outputs": [],
      "source": [
        "#def f(x):\n",
        "  #return (x-1)**2+(1/x-2)**2\n",
        "\n",
        "#def df(x):\n",
        "  #return 2*(x-1) + 2*(1/x-2)*(-1/x**2)\n",
        "\n",
        "#def descente1(f, df, a, alpha=1e-2, eps=1e-9, maxIter=1000):\n",
        "  # Finds the minimum of a function f using gradient descent\n",
        "  # df should be the derivative of f\n",
        "  # a is the initial value\n",
        "  # alpha is the learning rate that determines the descent speed (default: 1/100)\n",
        "  # eps is the desired precision (default: 1/1000000000)\n",
        "  # maxIter is the maximum number of iterations (default: 1000)\n",
        "\n",
        "  #grad = df(a)\n",
        "  #i=0\n",
        "  #while abs(grad)>eps: # as long as the slope is not approximately zero\n",
        "      #grad = df(a) # calculate the slope\n",
        "      #a = a-alpha*grad # take a small step downwards\n",
        "      #i += 1\n",
        "      #print(i, a, grad) # uncomment this line to print the iterations\n",
        "      #if i > maxIter:\n",
        "          #return None # abandon if the number of iterations is too high\n",
        "  #return a\n",
        "\n",
        "#def descente2(f, a, lr=1e-2, eps=1e-9, maxIter=1000):\n",
        "  # Finds the minimum of a function f using gradient descent with numerical derivative\n",
        "  # a is the initial value\n",
        "  # alpha is the learning rate that determines the descent speed (default: 1/100)\n",
        "  # eps is the desired precision (default: 1/1000000000)\n",
        "  # maxIter is the maximum number of iterations (default: 1000)\n",
        "  #grad = 1\n",
        "  #i=0\n",
        "  #while abs(grad)>eps:\n",
        "    #grad = (f(a+eps)-f(a-eps))/(2*eps) # numerical approximation of the derivative\n",
        "    #a = a-lr*grad\n",
        "    #i += 1\n",
        "    #print(i, a, grad) # uncomment this line to print the iterations\n",
        "    #if i > maxIter:\n",
        "        #return None\n",
        "  #return a\n",
        "\n"
      ]
    },
    {
      "cell_type": "code",
      "execution_count": null,
      "metadata": {
        "id": "R5r76Wf99IcD"
      },
      "outputs": [],
      "source": [
        "#Another example\n",
        "#import numpy as np\n",
        "\n",
        "#def gradient_descent(start, gradient, learn_rate, max_iter, tol=0.01):\n",
        "  #steps = [start] # history tracking\n",
        "  #x = start\n",
        "\n",
        "  #for _ in range(max_iter):\n",
        "    #diff = learn_rate*gradient(x)\n",
        "    #if np.abs(diff)<tol:\n",
        "    #break\n",
        "    #x = x - diff\n",
        "    #steps.append(x) # history tracing\n",
        "\n",
        "  #return steps, x"
      ]
    }
  ],
  "metadata": {
    "colab": {
      "provenance": [],
      "include_colab_link": true
    },
    "kernelspec": {
      "display_name": "Python 3",
      "name": "python3"
    },
    "language_info": {
      "name": "python"
    }
  },
  "nbformat": 4,
  "nbformat_minor": 0
}